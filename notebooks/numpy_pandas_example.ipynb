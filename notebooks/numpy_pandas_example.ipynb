{
 "cells": [
  {
   "cell_type": "markdown",
   "metadata": {},
   "source": [
    "import libraies"
   ]
  },
  {
   "cell_type": "code",
   "execution_count": 29,
   "metadata": {},
   "outputs": [],
   "source": [
    "import numpy as np\n",
    "import pandas as pd\n",
    "from pandas import Series, DataFrame"
   ]
  },
  {
   "cell_type": "markdown",
   "metadata": {},
   "source": [
    "Series 约等于 indexed dictionary"
   ]
  },
  {
   "cell_type": "code",
   "execution_count": null,
   "metadata": {},
   "outputs": [],
   "source": [
    "dict_ex = {\"a\": 1, \"b\": 2, \"c\": 3}\n",
    "series = Series(dict_ex)\n",
    "print(\"series:\", series)\n",
    "# dtype: int64\n",
    "\n",
    "new_index = [\"a\", \"b\", \"c\", \"d\"]\n",
    "series_new = Series(dict_ex, index=new_index)\n",
    "print(\"series_new:\", series_new)\n",
    "# dtype: float64, b/c NaN is considered as float\n",
    "print(\"sliced by index 1-3:\", series_new[1:3])  # slice\n",
    "\n",
    "series1 = Series([\"a\", \"b\", \"c\", \"d\"])\n",
    "print(\"series1:\", series1)\n",
    "\n",
    "# del will modify the original Series\n",
    "# drop will return a new object. The original series won't be changed . (Unless inplace=true)\n"
   ]
  },
  {
   "cell_type": "markdown",
   "metadata": {},
   "source": [
    "DataFrame is table like\n",
    "\n",
    "Can be row-indexed and column-indexed"
   ]
  },
  {
   "cell_type": "code",
   "execution_count": null,
   "metadata": {},
   "outputs": [],
   "source": [
    "data = {\n",
    "    \"name\": [\"john\", \"jose\", \"dan\", \"jane\"],\n",
    "    \"score\": [80, 43, 90, 100],\n",
    "    \"course\": [\"math\", \"math\", \"english\", \"english\"]\n",
    "}\n",
    "frame = DataFrame(data)\n",
    "print(frame)\n",
    "print(frame.values, frame.shape, frame.index)\n",
    "\n",
    "s0 = Series([234, 235, 435])\n",
    "s1 = Series([1, 0, 0])\n",
    "frame1 = DataFrame({\"column0\": s0, \"column1\": s1})\n",
    "print(frame1)\n",
    "\n",
    "# loc: params are names\n",
    "# iloc: params are indexes\n",
    "\n",
    "# drop will delete rows (axis default = 0)\n",
    "# axis = 1 will delete columns\n",
    "# pop will delete columns, cannot delete rows\n",
    "\n",
    "def multiple_by_2(score: int) -> bool:\n",
    "    return score * 2\n",
    "s: Series = frame[\"score\"].apply(multiple_by_2)\n",
    "# this is so much faster than loops. \n",
    "# this is done in parallel\n",
    "print(s)"
   ]
  },
  {
   "cell_type": "markdown",
   "metadata": {},
   "source": [
    "Pandas:\n",
    "\n",
    "- I/O\n",
    "- Groupby\n",
    "- Merge and concat\n",
    "- Missing value and Outlier Data"
   ]
  },
  {
   "cell_type": "code",
   "execution_count": null,
   "metadata": {},
   "outputs": [],
   "source": [
    "file_path = \"./data/example.csv\"\n",
    "df = pd.read_csv(file_path, sep=\",\", header=0)\n",
    "print(df.shape, df.dtypes)\n",
    "\n",
    "df[:5].to_csv(\"./data/sliced.csv\", index=False)"
   ]
  },
  {
   "cell_type": "code",
   "execution_count": null,
   "metadata": {},
   "outputs": [],
   "source": [
    "df.head(3)"
   ]
  },
  {
   "cell_type": "code",
   "execution_count": null,
   "metadata": {},
   "outputs": [],
   "source": [
    "df.tail(4)"
   ]
  },
  {
   "cell_type": "code",
   "execution_count": null,
   "metadata": {},
   "outputs": [],
   "source": [
    "df.describe()"
   ]
  },
  {
   "cell_type": "code",
   "execution_count": null,
   "metadata": {},
   "outputs": [],
   "source": [
    "df.sort_values(by=\"score\", ascending=False)"
   ]
  },
  {
   "cell_type": "code",
   "execution_count": null,
   "metadata": {},
   "outputs": [],
   "source": [
    "df[(df[\"score\"] > 60) & (df[\"score\"] < 95)]"
   ]
  },
  {
   "cell_type": "markdown",
   "metadata": {},
   "source": [
    "Groupby\n",
    "\n",
    "- Splitting the data into groups based on some criteria\n",
    "- Applying a funciotn to each group indenpendently\n",
    "- Combining the results into a data structure"
   ]
  },
  {
   "cell_type": "code",
   "execution_count": null,
   "metadata": {},
   "outputs": [],
   "source": []
  }
 ],
 "metadata": {
  "kernelspec": {
   "display_name": "env",
   "language": "python",
   "name": "python3"
  },
  "language_info": {
   "codemirror_mode": {
    "name": "ipython",
    "version": 3
   },
   "file_extension": ".py",
   "mimetype": "text/x-python",
   "name": "python",
   "nbconvert_exporter": "python",
   "pygments_lexer": "ipython3",
   "version": "3.12.7"
  }
 },
 "nbformat": 4,
 "nbformat_minor": 2
}
