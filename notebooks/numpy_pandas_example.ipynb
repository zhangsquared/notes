{
 "cells": [
  {
   "cell_type": "markdown",
   "metadata": {},
   "source": [
    "import libraies"
   ]
  },
  {
   "cell_type": "code",
   "execution_count": 2,
   "metadata": {},
   "outputs": [],
   "source": [
    "import numpy as np\n",
    "import pandas as pd\n",
    "from pandas import Series, DataFrame"
   ]
  },
  {
   "cell_type": "markdown",
   "metadata": {},
   "source": [
    "Series 约等于 indexed dictionary"
   ]
  },
  {
   "cell_type": "code",
   "execution_count": 3,
   "metadata": {},
   "outputs": [
    {
     "name": "stdout",
     "output_type": "stream",
     "text": [
      "series: a    1\n",
      "b    2\n",
      "c    3\n",
      "dtype: int64\n",
      "series_new: a    1.0\n",
      "b    2.0\n",
      "c    3.0\n",
      "d    NaN\n",
      "dtype: float64\n",
      "sliced by index 1-3: b    2.0\n",
      "c    3.0\n",
      "dtype: float64\n",
      "series1: 0    a\n",
      "1    b\n",
      "2    c\n",
      "3    d\n",
      "dtype: object\n"
     ]
    }
   ],
   "source": [
    "dict_ex = {\"a\": 1, \"b\": 2, \"c\": 3}\n",
    "series = Series(dict_ex)\n",
    "print(\"series:\", series)\n",
    "# dtype: int64\n",
    "\n",
    "new_index = [\"a\", \"b\", \"c\", \"d\"]\n",
    "series_new = Series(dict_ex, index=new_index)\n",
    "print(\"series_new:\", series_new)\n",
    "# dtype: float64, b/c NaN is considered as float\n",
    "print(\"sliced by index 1-3:\", series_new[1:3])  # slice\n",
    "\n",
    "series1 = Series([\"a\", \"b\", \"c\", \"d\"])\n",
    "print(\"series1:\", series1)\n",
    "\n",
    "# del will modify the original Series\n",
    "# drop will return a new object. The original series won't be changed . (Unless inplace=true)\n"
   ]
  },
  {
   "cell_type": "markdown",
   "metadata": {},
   "source": [
    "DataFrame is table like\n",
    "\n",
    "Can be row-indexed and column-indexed"
   ]
  },
  {
   "cell_type": "code",
   "execution_count": 7,
   "metadata": {},
   "outputs": [
    {
     "name": "stdout",
     "output_type": "stream",
     "text": [
      "   name  score   course\n",
      "0  john     80     math\n",
      "1  jose     43     math\n",
      "2   dan     90  english\n",
      "3  jane    100  english\n",
      "[['john' 80 'math']\n",
      " ['jose' 43 'math']\n",
      " ['dan' 90 'english']\n",
      " ['jane' 100 'english']] (4, 3) RangeIndex(start=0, stop=4, step=1)\n",
      "   column0  column1\n",
      "0      234        1\n",
      "1      235        0\n",
      "2      435        0\n",
      "0    160\n",
      "1     86\n",
      "2    180\n",
      "3    200\n",
      "Name: score, dtype: int64\n"
     ]
    }
   ],
   "source": [
    "data = {\n",
    "    \"name\": [\"john\", \"jose\", \"dan\", \"jane\"],\n",
    "    \"score\": [80, 43, 90, 100],\n",
    "    \"course\": [\"math\", \"math\", \"english\", \"english\"]\n",
    "}\n",
    "frame = DataFrame(data)\n",
    "print(frame)\n",
    "print(frame.values, frame.shape, frame.index)\n",
    "\n",
    "s0 = Series([234, 235, 435])\n",
    "s1 = Series([1, 0, 0])\n",
    "frame1 = DataFrame({\"column0\": s0, \"column1\": s1})\n",
    "print(frame1)\n",
    "\n",
    "# loc: params are names\n",
    "# iloc: params are indexes\n",
    "\n",
    "# drop will delete rows (axis default = 0)\n",
    "# axis = 1 will delete columns\n",
    "# pop will delete columns, cannot delete rows\n",
    "\n",
    "def multiple_by_2(score: int) -> bool:\n",
    "    return score * 2\n",
    "s: Series = frame[\"score\"].apply(multiple_by_2)\n",
    "# this is so much faster than loops. \n",
    "# this is done in parallel\n",
    "print(s)"
   ]
  }
 ],
 "metadata": {
  "kernelspec": {
   "display_name": "env",
   "language": "python",
   "name": "python3"
  },
  "language_info": {
   "codemirror_mode": {
    "name": "ipython",
    "version": 3
   },
   "file_extension": ".py",
   "mimetype": "text/x-python",
   "name": "python",
   "nbconvert_exporter": "python",
   "pygments_lexer": "ipython3",
   "version": "3.12.7"
  }
 },
 "nbformat": 4,
 "nbformat_minor": 2
}
