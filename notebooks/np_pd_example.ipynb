{
 "cells": [
  {
   "cell_type": "markdown",
   "metadata": {},
   "source": [
    "import libraies"
   ]
  },
  {
   "cell_type": "code",
   "execution_count": 2,
   "metadata": {},
   "outputs": [],
   "source": [
    "import numpy as np\n",
    "import pandas as pd\n",
    "from pandas import Series, DataFrame"
   ]
  },
  {
   "cell_type": "markdown",
   "metadata": {},
   "source": [
    "Series 约等于 indexed dictionary"
   ]
  },
  {
   "cell_type": "code",
   "execution_count": 12,
   "metadata": {},
   "outputs": [
    {
     "name": "stdout",
     "output_type": "stream",
     "text": [
      "series: a    1\n",
      "b    2\n",
      "c    3\n",
      "dtype: int64\n",
      "series_new: a    1.0\n",
      "b    2.0\n",
      "c    3.0\n",
      "d    NaN\n",
      "dtype: float64\n",
      "sliced by index 1-3: b    2.0\n",
      "c    3.0\n",
      "dtype: float64\n",
      "series1: 0    a\n",
      "1    b\n",
      "2    c\n",
      "3    d\n",
      "dtype: object\n"
     ]
    }
   ],
   "source": [
    "dict_ex = {\"a\": 1, \"b\": 2, \"c\": 3}\n",
    "series = Series(dict_ex)\n",
    "print(\"series:\", series)\n",
    "# dtype: int64\n",
    "\n",
    "new_index = [\"a\", \"b\", \"c\", \"d\"]\n",
    "series_new = Series(dict_ex, index=new_index)\n",
    "print(\"series_new:\", series_new)\n",
    "# dtype: float64, b/c NaN is considered as float\n",
    "print(\"sliced by index 1-3:\", series_new[1:3])  # slice\n",
    "\n",
    "series1 = Series([\"a\", \"b\", \"c\", \"d\"])\n",
    "print(\"series1:\", series1)\n",
    "\n",
    "# del will modify the original Series\n",
    "# drop will return a new object. The original series won't be changed . (Unless inplace=true)\n"
   ]
  }
 ],
 "metadata": {
  "kernelspec": {
   "display_name": "env",
   "language": "python",
   "name": "python3"
  },
  "language_info": {
   "codemirror_mode": {
    "name": "ipython",
    "version": 3
   },
   "file_extension": ".py",
   "mimetype": "text/x-python",
   "name": "python",
   "nbconvert_exporter": "python",
   "pygments_lexer": "ipython3",
   "version": "3.12.7"
  }
 },
 "nbformat": 4,
 "nbformat_minor": 2
}
